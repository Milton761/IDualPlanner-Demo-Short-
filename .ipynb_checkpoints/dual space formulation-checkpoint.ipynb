{
 "cells": [
  {
   "cell_type": "markdown",
   "metadata": {},
   "source": [
    "## Dual LP Formulation of SSP"
   ]
  },
  {
   "cell_type": "markdown",
   "metadata": {},
   "source": [
    "- In this formulation, shown in (LP 1), the variables are the policy’s occupation measures $x_{s,a}$ and represent the expected number of times action $a ∈ A(s)$ will be executed in state $s$."
   ]
  },
  {
   "cell_type": "markdown",
   "metadata": {},
   "source": [
    "\n",
    "\\begin{equation*}\n",
    "\\underset{x}{min} \\sum_{s\\in S,a\\in A(s)} x_{s,a}C(a) \\quad\\quad\\qquad\\qquad\\quad\\quad \\text{s.t. (C1) - (C6)}  \\tag{LP 1}\n",
    "\\end{equation*}"
   ]
  },
  {
   "cell_type": "markdown",
   "metadata": {},
   "source": [
    "\n",
    "$$\n",
    "x_{s,a}\\geq 0 \\qquad\\qquad\\qquad\\qquad\\qquad\\qquad\\qquad \\forall s\\in S, a \\in A(s) \\tag{C1}\n",
    "$$"
   ]
  },
  {
   "cell_type": "markdown",
   "metadata": {},
   "source": [
    "$$\n",
    "in(s) = \\sum_{s'\\in S, a \\in A(s')}x_{s',a}P(s,| s',a) \\qquad\\qquad\\quad\\quad\\quad\\quad \\forall s \\in S\t\\tag{C2}\n",
    "$$"
   ]
  },
  {
   "cell_type": "markdown",
   "metadata": {},
   "source": [
    "$$\n",
    "out(s)-in(s) = 0 \\quad\\quad\\quad\\quad\\qquad\\qquad \\forall s \\in S \\setminus (G\\cup \\{s_0\\} ) \\tag{C3}\n",
    "$$"
   ]
  },
  {
   "cell_type": "markdown",
   "metadata": {},
   "source": [
    "$$\n",
    "out(s_0)-in(s_0)=1\t\\qquad\\qquad\\qquad\\qquad\\qquad\\qquad\\qquad\\tag{C4}\n",
    "$$"
   ]
  },
  {
   "cell_type": "markdown",
   "metadata": {},
   "source": [
    "$$\n",
    "out(s) = \\sum_{a\\in App(s)} x_{s,a} \\quad\\qquad\\qquad\\qquad\\qquad\\qquad \\forall s\\in S\\setminus G \\tag{C5}\n",
    "$$"
   ]
  },
  {
   "cell_type": "markdown",
   "metadata": {},
   "source": [
    "$$\n",
    "\\sum_{s_g\\in G}in(s_g)=1 \\qquad\\qquad\\qquad\\qquad\\qquad\\qquad\\qquad\\qquad \\tag{C6}\n",
    "$$"
   ]
  },
  {
   "cell_type": "markdown",
   "metadata": {},
   "source": [
    "## Example - SSP"
   ]
  },
  {
   "cell_type": "code",
   "execution_count": 4,
   "metadata": {
    "collapsed": true
   },
   "outputs": [],
   "source": [
    "from ssp import *\n",
    "\n",
    "ssp = SSP()\n",
    "\n",
    "\n",
    "ssp.S.append(\"A\")\n",
    "ssp.S.append(\"B\")\n",
    "ssp.S.append(\"C\")\n",
    "ssp.S.append(\"D\")\n",
    "\n",
    "ssp._s0 = \"A\"\n",
    "\n",
    "ssp.G.append(\"D\")\n",
    "\n",
    "ssp.A.append(\"a0\")\n",
    "ssp.A.append(\"a1\")\n",
    "\n",
    "#probability\n",
    "\n",
    "ssp.P(\"A\", \"a0\", \"B\", 1)\n",
    "\n",
    "ssp.P(\"A\", \"a1\", \"C\", 0.7)\n",
    "ssp.P(\"A\", \"a1\", \"D\", 0.3)\n",
    "\n",
    "ssp.P(\"B\", \"a1\", \"D\", 1)\n",
    "\n",
    "ssp.P(\"C\", \"a0\", \"D\", 1)\n",
    "\n",
    "\n",
    "#cost\n",
    "\n",
    "ssp.C(\"A\",\"a0\", 3)\n",
    "ssp.C(\"A\",\"a1\", 1)\n",
    "\n",
    "ssp.C(\"B\",\"a1\", 1)\n",
    "ssp.C(\"C\",\"a0\", 1)\n",
    "\n",
    "#app\n",
    "\n",
    "ssp.App(\"A\",\"a0\")\n",
    "ssp.App(\"A\",\"a1\")\n",
    "\n",
    "ssp.App(\"B\",\"a1\")\n",
    "\n",
    "ssp.App(\"C\",\"a0\")\n",
    "\n"
   ]
  },
  {
   "cell_type": "code",
   "execution_count": 5,
   "metadata": {},
   "outputs": [
    {
     "data": {
      "image/png": "[encoded data removed]",
      "text/plain": [
       "<IPython.core.display.Image object>"
      ]
     },
     "execution_count": 5,
     "metadata": {},
     "output_type": "execute_result"
    }
   ],
   "source": [
    "from IPython.display import Image\n",
    "import os\n",
    "\n",
    "ssp.toDot(\"example01.dot\")\n",
    "\n",
    "cmd = 'convert example01.dot example01.png'\n",
    "os.system(cmd)\n",
    "Image(filename='example01.png') "
   ]
  },
  {
   "cell_type": "code",
   "execution_count": 6,
   "metadata": {},
   "outputs": [
    {
     "name": "stdout",
     "output_type": "stream",
     "text": [
      "=============================\n",
      "====LP SSP=================\n",
      "=============================\n",
      "Aa0 = 0.0\n",
      "Aa1 = 1.0\n",
      "Ba1 = 0.0\n",
      "Ca0 = 0.7\n",
      "IN_A = 0.0\n",
      "IN_B = 0.0\n",
      "IN_C = 0.7\n",
      "IN_D = 1.0\n",
      "OUT_A = 1.0\n",
      "OUT_B = 0.0\n",
      "OUT_C = 0.7\n",
      "Objective = 1.7\n"
     ]
    },
    {
     "data": {
      "text/plain": [
       "SSP-MinCost:\n",
       "MINIMIZE\n",
       "3*Aa0 + 1*Aa1 + 1*Ba1 + 1*Ca0 + 0\n",
       "SUBJECT TO\n",
       "_C1: - Aa0 + IN_B = 0\n",
       "\n",
       "_C2: - 0.7 Aa1 + IN_C = 0\n",
       "\n",
       "_C3: - 0.3 Aa1 - Ba1 - Ca0 + IN_D = 0\n",
       "\n",
       "_C4: - Aa0 - Aa1 + OUT_A = 0\n",
       "\n",
       "_C5: - Ba1 + OUT_B = 0\n",
       "\n",
       "_C6: - Ca0 + OUT_C = 0\n",
       "\n",
       "_C7: - IN_B + OUT_B = 0\n",
       "\n",
       "_C8: - IN_C + OUT_C = 0\n",
       "\n",
       "_C9: - IN_A + OUT_A = 1\n",
       "\n",
       "_C10: IN_D = 1\n",
       "\n",
       "VARIABLES\n",
       "Aa0 Continuous\n",
       "Aa1 Continuous\n",
       "Ba1 Continuous\n",
       "Ca0 Continuous\n",
       "IN_A Continuous\n",
       "IN_B Continuous\n",
       "IN_C Continuous\n",
       "IN_D Continuous\n",
       "OUT_A Continuous\n",
       "OUT_B Continuous\n",
       "OUT_C Continuous"
      ]
     },
     "execution_count": 6,
     "metadata": {},
     "output_type": "execute_result"
    }
   ],
   "source": [
    "from ssp import *\n",
    "from pulp import *\n",
    "from lp_ssp import *\n",
    "\n",
    "problem = lp_ssp(ssp)"
   ]
  },
  {
   "cell_type": "markdown",
   "metadata": {},
   "source": [
    "## Example - SSP with unavoidable dead-ends\n"
   ]
  },
  {
   "cell_type": "code",
   "execution_count": 26,
   "metadata": {},
   "outputs": [
    {
     "data": {
      "image/png": "[encoded data removed]",
      "text/plain": [
       "<IPython.core.display.Image object>"
      ]
     },
     "execution_count": 26,
     "metadata": {},
     "output_type": "execute_result"
    }
   ],
   "source": [
    "from IPython.display import Image\n",
    "import os\n",
    "\n",
    "Image(filename='mcmp.png') "
   ]
  },
  {
   "cell_type": "markdown",
   "metadata": {},
   "source": [
    "## [MODELING THE PROBLEM]"
   ]
  },
  {
   "cell_type": "code",
   "execution_count": 4,
   "metadata": {
    "collapsed": true
   },
   "outputs": [],
   "source": [
    "from ssp import *\n",
    "from pulp import *\n",
    "from lp_maxprob import *\n",
    "from lp_mincost import *\n",
    "from lp_sspude import *\n",
    "from lp_hsearch import *\n",
    "\n",
    "\n",
    "ssp = SSP()\n",
    "\n",
    "\n",
    "ssp.S.append(\"S0\")\n",
    "ssp.S.append(\"S1\")\n",
    "ssp.S.append(\"S2\")\n",
    "ssp.S.append(\"Sg\")\n",
    "ssp.S.append(\"D1\")\n",
    "ssp.S.append(\"D2\")\n",
    "ssp.S.append(\"D3\")\n",
    "\n",
    "ssp._s0 = \"S0\"\n",
    "\n",
    "ssp.G.append(\"Sg\")\n",
    "\n",
    "ssp.A.append(\"a0\")\n",
    "ssp.A.append(\"a1\")\n",
    "\n",
    "#probability\n",
    "\n",
    "ssp.P(\"S0\", \"a1\", \"S2\", 1)\n",
    "ssp.P(\"S0\", \"a0\", \"S1\", 0.5)\n",
    "ssp.P(\"S0\", \"a0\", \"D1\", 0.5)\n",
    "\n",
    "ssp.P(\"S1\",\"a0\",\"S0\", 0.5)\n",
    "ssp.P(\"S1\",\"a0\",\"Sg\", 0.5)\n",
    "\n",
    "ssp.P(\"S2\",\"a1\",\"S0\", 0.4)\n",
    "ssp.P(\"S2\",\"a1\",\"Sg\", 0.4)\n",
    "ssp.P(\"S2\",\"a1\",\"D2\", 0.2)\n",
    "\n",
    "ssp.P(\"D2\",\"a1\",\"D3\", 1)\n",
    "\n",
    "ssp.P(\"D3\",\"a1\",\"D2\", 1)\n",
    "\n",
    "#cost\n",
    "\n",
    "ssp.C(\"S0\",\"a0\", 1)\n",
    "ssp.C(\"S0\",\"a1\", 1)\n",
    "\n",
    "ssp.C(\"S1\",\"a0\", 3)\n",
    "\n",
    "ssp.C(\"S2\",\"a1\", 2)\n",
    "\n",
    "#app\n",
    "\n",
    "ssp.App(\"S0\",\"a0\")\n",
    "ssp.App(\"S0\",\"a1\")\n",
    "\n",
    "ssp.App(\"S1\",\"a0\")\n",
    "\n",
    "ssp.App(\"S2\",\"a1\")\n",
    "\n",
    "ssp.App(\"D2\",\"a1\")\n",
    "\n",
    "ssp.App(\"D3\",\"a1\")\n",
    "\n"
   ]
  },
  {
   "cell_type": "code",
   "execution_count": 5,
   "metadata": {},
   "outputs": [
    {
     "data": {
      "image/png": "[encoded data removed]",
      "text/plain": [
       "<IPython.core.display.Image object>"
      ]
     },
     "execution_count": 5,
     "metadata": {},
     "output_type": "execute_result"
    }
   ],
   "source": [
    "from IPython.display import Image\n",
    "import os\n",
    "\n",
    "ssp.toDot(\"example.dot\")\n",
    "\n",
    "cmd = 'convert example.dot example.png'\n",
    "os.system(cmd)\n",
    "Image(filename='example.png') "
   ]
  },
  {
   "cell_type": "markdown",
   "metadata": {},
   "source": [
    "<hr>\n",
    "## Dual LP Formulation for SSPUDE considering MaxProb [TWO FASES]"
   ]
  },
  {
   "cell_type": "markdown",
   "metadata": {},
   "source": [
    "- This formulation allows solve problems with unavoidable dead-ends"
   ]
  },
  {
   "cell_type": "markdown",
   "metadata": {},
   "source": [
    "$$\n",
    "\\underset{x}{min} \\sum_{s\\in S,a\\in A(s)} x_{s,a}C(s,a) \\quad \\text{s.t. (C1) - (C6)} \\tag{LP 1 modified}\n",
    "$$\n",
    "\n",
    "$$\n",
    "x_{s,a}\\geq 0 \\quad \\forall s\\in S, a \\in A(s) \\tag{C1}\n",
    "$$\n",
    "\n",
    "\n",
    "$$\n",
    "in(s) = \\sum_{s'\\in S, a \\in App(s')}x_{s',a}P(s,|s',a)\t\\tag{C2}\n",
    "$$\n",
    "\n",
    "$$\n",
    "out(s) = \\sum_{a\\in App(s)} x_{s,a} \\quad \\forall s\\in S \\tag{C3}\n",
    "$$\n",
    "\n",
    "\n",
    "$$\n",
    "out(s)-in(s) \\leq 0 \\quad \\forall s \\in S \\setminus (G\\cup \\{s_0\\} ) \\tag{C4 modified}\n",
    "$$\n",
    "\n",
    "$$\n",
    "out(s_0)-in(s_0) \\leq 1\t\\tag{C5}\n",
    "$$\n",
    "\n",
    "$$\n",
    "\\sum_{s_g\\in G} in(s_g) = p^{max}\\tag{C6 modified}\n",
    "$$"
   ]
  },
  {
   "cell_type": "markdown",
   "metadata": {},
   "source": [
    "## $1^{st}$ Fase : Calculating $p_{max}$ (MaxProb as LP Formulation)"
   ]
  },
  {
   "cell_type": "markdown",
   "metadata": {},
   "source": [
    "$$\n",
    "max \\sum in(s_g) \\quad \\text{s.t. (C1) - (C3), (C7) - (C8)} \\tag{LP 2}\n",
    "$$\n",
    "\n",
    "$$\n",
    "out(s)-in(s) = 0 \\quad \\forall s \\in S \\setminus (G\\cup \\{s_0\\} ) \\tag{C7}\n",
    "$$\n",
    "\n",
    "$$\n",
    "out(s_0)-in(s_0) = 1 \\tag{C8}\n",
    "$$"
   ]
  },
  {
   "cell_type": "code",
   "execution_count": 6,
   "metadata": {},
   "outputs": [
    {
     "name": "stdout",
     "output_type": "stream",
     "text": [
      "=============================\n",
      "D2a1 \t 0.0\n",
      "D3a1 \t 0.0\n",
      "IN_D1 \t 0.666667\n",
      "IN_D2 \t 0.0\n",
      "IN_D3 \t 0.0\n",
      "IN_S0 \t 0.333333\n",
      "IN_S1 \t 0.666667\n",
      "IN_S2 \t 0.0\n",
      "IN_Sg \t 0.333333\n",
      "OUT_D1 \t 0.666667\n",
      "OUT_D2 \t 0.0\n",
      "OUT_D3 \t 0.0\n",
      "OUT_S0 \t 1.33333\n",
      "OUT_S1 \t 0.666667\n",
      "OUT_S2 \t 0.0\n",
      "S0a0 \t 1.33333\n",
      "S0a1 \t 0.0\n",
      "S1a0 \t 0.666667\n",
      "S2a1 \t 0.0\n",
      "p_max =  0.333333\n",
      "=============================\n"
     ]
    }
   ],
   "source": [
    "from ssp import *\n",
    "from pulp import *\n",
    "from lp_maxprob import *\n",
    "from lp_mincost import *\n",
    "from lp_sspude import *\n",
    "from lp_hsearch import *\n",
    "\n",
    "\n",
    "problem = lp_maxprob(ssp)\n",
    "p_max = value(problem.objective)\n"
   ]
  },
  {
   "cell_type": "markdown",
   "metadata": {},
   "source": [
    "## $2^{nd}$ Fase : Calculating MinCost as LP Formulation"
   ]
  },
  {
   "cell_type": "code",
   "execution_count": 7,
   "metadata": {},
   "outputs": [
    {
     "name": "stdout",
     "output_type": "stream",
     "text": [
      "=============================\n",
      "D2a1 \t 0.0\n",
      "D3a1 \t 0.0\n",
      "IN_D1 \t 0.666667\n",
      "IN_D2 \t 0.0\n",
      "IN_D3 \t 0.0\n",
      "IN_S0 \t 0.333333\n",
      "IN_S1 \t 0.666667\n",
      "IN_S2 \t 0.0\n",
      "IN_Sg \t 0.333333\n",
      "OUT_D1 \t 0.666667\n",
      "OUT_D2 \t 0.0\n",
      "OUT_D3 \t 0.0\n",
      "OUT_S0 \t 1.33333\n",
      "OUT_S1 \t 0.666667\n",
      "OUT_S2 \t 0.0\n",
      "S0a0 \t 1.33333\n",
      "S0a1 \t 0.0\n",
      "S1a0 \t 0.666667\n",
      "S2a1 \t 0.0\n",
      "p_max =  0.333333\n",
      "=============================\n",
      "=============================\n",
      "====MIN-COST=================\n",
      "=============================\n",
      "D2a1 = 0.0\n",
      "D3a1 = 0.0\n",
      "IN_D1 = 0.0\n",
      "IN_D2 = 0.166666\n",
      "IN_D3 = 0.0\n",
      "IN_S0 = 0.333333\n",
      "IN_S1 = 0.0\n",
      "IN_S2 = 0.833332\n",
      "IN_Sg = 0.333333\n",
      "OUT_D1 = 0.0\n",
      "OUT_D2 = 0.0\n",
      "OUT_D3 = 0.0\n",
      "OUT_S0 = 0.833332\n",
      "OUT_S1 = 0.0\n",
      "OUT_S2 = 0.833332\n",
      "S0a0 = 0.0\n",
      "S0a1 = 0.833332\n",
      "S1a0 = 0.0\n",
      "S2a1 = 0.833332\n",
      "Objective = 2.499996\n"
     ]
    }
   ],
   "source": [
    "problem = lp_maxprob(ssp)\n",
    "p_max = value(problem.objective)\n",
    "problem = lp_mincost(ssp, p_max)"
   ]
  },
  {
   "cell_type": "markdown",
   "metadata": {},
   "source": [
    "## Dual LP Formulation of SSPUDE Ends with Penalty\n"
   ]
  },
  {
   "cell_type": "markdown",
   "metadata": {},
   "source": [
    "- LP 2 presents the dual-space linear program from SSP with dead ends.\n",
    "- The objective function od LP 2 is obtained by adding the total expected penalty for reaching dead end $(\\sum_{s \\in S} x_{s}^{D}d)$ to the objective function of LP 1.\n",
    "- For each state $s$, a new occupation measure $x_{s}^{D}$ is added to represent the flow escaping from $s$ if $s$ is proved to be a dead-end.\n"
   ]
  },
  {
   "cell_type": "markdown",
   "metadata": {},
   "source": [
    "\n",
    "\\begin{equation*}\n",
    "\\underset{x}{min} \\sum_{s\\in S,a\\in A(s)} x_{s,a}C(a) + \\sum_{s\\in S}x_{s}^{D}d \\qquad\\qquad \\text{s.t. (C1) - (C4), (C7)-(C9)}  \\tag{LP 2}\n",
    "\\end{equation*}"
   ]
  },
  {
   "cell_type": "markdown",
   "metadata": {},
   "source": [
    "$$\n",
    "x_{x}^{D}\\geq 0 \\qquad\\qquad\\qquad\\qquad\\qquad\\qquad \\forall s \\in S \\tag{C7}\n",
    "$$"
   ]
  },
  {
   "cell_type": "markdown",
   "metadata": {},
   "source": [
    "$$\n",
    "out(s) = \\sum_{a\\in A(s)} x_{s,a} + x_{s}^{D} \\qquad \\qquad \\qquad \\qquad \\forall s\\in S \\setminus G \\tag{C8}\n",
    "$$"
   ]
  },
  {
   "cell_type": "markdown",
   "metadata": {},
   "source": [
    "$$\n",
    "\\sum_{s_g}in(s_g) + \\sum_{s\\in S}x_{s}^{D} = 1 \\qquad\\qquad\\qquad\\qquad\\qquad\\qquad\\qquad\\tag{C9}\n",
    "$$"
   ]
  },
  {
   "cell_type": "code",
   "execution_count": 8,
   "metadata": {},
   "outputs": [
    {
     "name": "stdout",
     "output_type": "stream",
     "text": [
      "=============================\n",
      "====LP - SSPUDE =============\n",
      "=============================\n",
      "D2a1 = 0.0\n",
      "D3a1 = 0.0\n",
      "DE_D1 = 0.0\n",
      "DE_D2 = 0.333333\n",
      "DE_D3 = 0.0\n",
      "DE_S0 = 0.0\n",
      "DE_S1 = 0.0\n",
      "DE_S2 = 0.0\n",
      "DE_Sg = 0.0\n",
      "IN_D1 = 0.0\n",
      "IN_D2 = 0.333333\n",
      "IN_D3 = 0.0\n",
      "IN_S0 = 0.666667\n",
      "IN_S1 = 0.0\n",
      "IN_S2 = 1.66667\n",
      "IN_Sg = 0.666667\n",
      "OUT_D1 = 0.0\n",
      "OUT_D2 = 0.333333\n",
      "OUT_D3 = 0.0\n",
      "OUT_S0 = 1.66667\n",
      "OUT_S1 = 0.0\n",
      "OUT_S2 = 1.66667\n",
      "S0a0 = 0.0\n",
      "S0a1 = 1.66667\n",
      "S1a0 = 0.0\n",
      "S2a1 = 1.66667\n",
      "Objective = 338.33300999999994\n"
     ]
    }
   ],
   "source": [
    "problem = lp_sspude(ssp, 1000)"
   ]
  },
  {
   "cell_type": "markdown",
   "metadata": {},
   "source": [
    "<hr>\n",
    "# Search Algorithm in a Dual Space "
   ]
  },
  {
   "cell_type": "markdown",
   "metadata": {},
   "source": [
    "## Constrained SSPs"
   ]
  },
  {
   "cell_type": "markdown",
   "metadata": {},
   "source": [
    "- A constrainde SSP (C-SSP) is an SSP with $k+1$ cost functions in which one cost function is optimised while the remaining $k$ cost are constrained by an upper bound.\n"
   ]
  },
  {
   "cell_type": "markdown",
   "metadata": {},
   "source": [
    "Formally, a C-SSP is the tuple :\n",
    "\n",
    "$$\n",
    "\\langle S, s_0, A, P, \\vec{C}, \\vec{c} \\rangle\n",
    "$$"
   ]
  },
  {
   "cell_type": "markdown",
   "metadata": {},
   "source": [
    " + $\\vec{C} = [C_0,C_1,...,C_k]$  is a vector of cost functions.\n",
    " + $\\vec{c} = [c_1,...,c_k]$ is the cost upper bound vector."
   ]
  },
  {
   "cell_type": "markdown",
   "metadata": {
    "collapsed": true
   },
   "source": [
    "The dual LP for solving C-SSPs is the LP 2 subject to the additional constraint C10:"
   ]
  },
  {
   "cell_type": "markdown",
   "metadata": {},
   "source": [
    "$$\n",
    "\\sum_{s\\in S, a \\in A(s)}x_{s,a}C_{j}(s,a) + \\sum_{s\\in S} x_{s}^{D}d_{j} \\leq c_j \\qquad\\qquad\\qquad \\forall j \\in \\{1,...,k\\} \\tag{C10}\n",
    "$$"
   ]
  },
  {
   "cell_type": "markdown",
   "metadata": {},
   "source": [
    "## I-Dual Planner"
   ]
  },
  {
   "cell_type": "markdown",
   "metadata": {},
   "source": [
    "- This approach consist in defining incrementally larger $partial$ $problems$ starting from $s_0$.\n",
    "- Use artificial goals to represent non-explored areas of the occupation measure space.\n",
    "- Artificial goals are prioritised using heuristic values.\n",
    "- Uses a heuristic vector $\\vec{H} = [H_0,...,H_k]$, where $H_j:S\\to \\mathbb{R}^+$ for all $i\\in \\{0,...,k\\}$ is a heuristic value of $C_j$.\n",
    "- Each partial problem is represented as a C-SSP with terminal costs $\\langle  \\hat{S}, s_0, \\hat{A}, \\hat{G}, P, \\vec{C}, \\vec{\\hat{c}}, \\hat{H}   \\rangle$, where: $\\langle  \\hat{S}, s_0, \\hat{A}, \\hat{G}, P, \\vec{C}, \\vec{\\hat{c}}   \\rangle$ is a regular C-SSP."
   ]
  },
  {
   "cell_type": "markdown",
   "metadata": {},
   "source": [
    "The dual linear program for C-SSPs with such terminal costs is presented in LP 3"
   ]
  },
  {
   "cell_type": "markdown",
   "metadata": {},
   "source": [
    "$$\n",
    "\\underset{x}{min}\\sum_{s\\in\\hat{S}, a\\in\\hat{A}(s)}x_{s,a}C_0(s,a) + \\sum_{s\\in \\hat{S}}x_{s}^{D}d_{0} + \\sum_{s_g\\in\\hat{G}}in(s_g)H_0(s_g) \\qquad\\qquad \\text{s.t (C1)-(C4), (C7)-(C9), (C11)} \\tag{LP3} \n",
    "$$"
   ]
  },
  {
   "cell_type": "markdown",
   "metadata": {},
   "source": [
    "$$\n",
    "\\sum_{s\\in\\hat{S}, a\\in\\hat{A}(s)} x_{s,a} C_j(s,a) + \\sum_{s\\in\\hat{S}}x_{s}^{D}d_j + \\sum_{s_g\\in\\hat{G}}in(s_g)H_k(s_g) \\leq \\hat{c}_k \\qquad\\qquad \\forall j\\in\\{1,...,k\\} \\tag{C11}\n",
    "$$"
   ]
  },
  {
   "cell_type": "markdown",
   "metadata": {
    "collapsed": true
   },
   "source": [
    "## Algorithm"
   ]
  },
  {
   "cell_type": "markdown",
   "metadata": {
    "collapsed": true
   },
   "source": [
    "<img src='algorithm.png'>"
   ]
  },
  {
   "cell_type": "markdown",
   "metadata": {
    "collapsed": true
   },
   "source": [
    "## I-Dual Framework [LINE 12 use a LP formulation]"
   ]
  },
  {
   "cell_type": "code",
   "execution_count": 17,
   "metadata": {},
   "outputs": [
    {
     "name": "stdout",
     "output_type": "stream",
     "text": [
      "========================================\n",
      "==== LP - Heuristic Search =============\n",
      "========================================\n",
      "ITERATION :  1\n",
      "\tN ::  {'D1', 'S1', 'S2'}\n",
      "\tS ::  {'D1', 'S0', 'S1', 'S2'}\n",
      "\tF ::  {'D1', 'S1', 'S2'}\n",
      "\tG1 ::  {'D1', 'S1', 'S2'}\n",
      "App :  defaultdict(<class 'list'>, {'S0': ['a0', 'a1']})\n",
      "===========================\n",
      "Stat : ['D1', 'S0', 'S1', 'S2']\n",
      "Acts : ['a0', 'a1']\n",
      "Init : S0\n",
      "Goal : ['D1', 'S1', 'S2']\n",
      "===========================\n",
      "=============================\n",
      "IN_D1 \t 1.0\n",
      "IN_S0 \t 1.0\n",
      "IN_S1 \t 1.0\n",
      "IN_S2 \t 0.0\n",
      "OUT_S0 \t 2.0\n",
      "S0a0 \t 2.0\n",
      "S0a1 \t 0.0\n",
      "S1a0 \t 2.0\n",
      "S2a1 \t 0.0\n",
      "p_max =  2.0\n",
      "=============================\n",
      "[LINE 13]\n",
      "IN_D1\n",
      "IN_S1\n",
      "IN_S2\n",
      "\tFr ::  {'D1', 'S1'}\n",
      "ITERATION :  2\n",
      "\tN ::  {'Sg'}\n",
      "\tS ::  {'D1', 'Sg', 'S0', 'S1', 'S2'}\n",
      "\tF ::  {'S2'}\n",
      "\tG1 ::  {'Sg', 'S2'}\n",
      "App :  defaultdict(<class 'list'>, {'S1': ['a0'], 'S0': ['a0', 'a1']})\n",
      "===========================\n",
      "Stat : ['D1', 'Sg', 'S0', 'S1', 'S2']\n",
      "Acts : ['a0', 'a0', 'a1']\n",
      "Init : S0\n",
      "Goal : ['Sg', 'S2']\n",
      "===========================\n",
      "=============================\n",
      "IN_D1 \t 0.5\n",
      "IN_S0 \t 1.0\n",
      "IN_S1 \t 0.5\n",
      "IN_S2 \t 1.0\n",
      "IN_Sg \t 1.0\n",
      "OUT_D1 \t 0.5\n",
      "OUT_S0 \t 2.0\n",
      "OUT_S1 \t 0.5\n",
      "S0a0 \t 1.0\n",
      "S0a1 \t 1.0\n",
      "S1a0 \t 0.5\n",
      "S2a1 \t 1.875\n",
      "p_max =  2.0\n",
      "=============================\n",
      "[LINE 13]\n",
      "IN_S2\n",
      "\tFr ::  {'S2'}\n",
      "ITERATION :  3\n",
      "\tN ::  {'D2'}\n",
      "\tS ::  {'D2', 'D1', 'Sg', 'S0', 'S1', 'S2'}\n",
      "\tF ::  {'D2'}\n",
      "\tG1 ::  {'D2', 'Sg'}\n",
      "App :  defaultdict(<class 'list'>, {'S0': ['a0', 'a1'], 'S2': ['a1'], 'S1': ['a0']})\n",
      "===========================\n",
      "Stat : ['D2', 'D1', 'Sg', 'S0', 'S1', 'S2']\n",
      "Acts : ['a0', 'a1', 'a1', 'a0']\n",
      "Init : S0\n",
      "Goal : ['D2', 'Sg']\n",
      "===========================\n",
      "=============================\n",
      "IN_D1 \t 0.266667\n",
      "IN_D2 \t 0.2\n",
      "IN_S0 \t 0.533333\n",
      "IN_S1 \t 0.266667\n",
      "IN_S2 \t 1.0\n",
      "IN_Sg \t 0.533333\n",
      "OUT_D1 \t 0.266667\n",
      "OUT_S0 \t 1.53333\n",
      "OUT_S1 \t 0.266667\n",
      "OUT_S2 \t 1.0\n",
      "S0a0 \t 0.533333\n",
      "S0a1 \t 1.0\n",
      "S1a0 \t 0.266667\n",
      "S2a1 \t 1.0\n",
      "p_max =  0.733333\n",
      "=============================\n",
      "[LINE 13]\n",
      "IN_D2\n",
      "\tFr ::  {'D2'}\n",
      "ITERATION :  4\n",
      "\tN ::  {'D3'}\n",
      "\tS ::  {'D2', 'D1', 'Sg', 'S0', 'D3', 'S1', 'S2'}\n",
      "\tF ::  {'D3'}\n",
      "\tG1 ::  {'D3', 'Sg'}\n",
      "App :  defaultdict(<class 'list'>, {'D2': ['a1'], 'S0': ['a0', 'a1'], 'S2': ['a1'], 'S1': ['a0']})\n",
      "===========================\n",
      "Stat : ['D2', 'D1', 'Sg', 'S0', 'D3', 'S1', 'S2']\n",
      "Acts : ['a1', 'a0', 'a1', 'a1', 'a0']\n",
      "Init : S0\n",
      "Goal : ['D3', 'Sg']\n",
      "===========================\n",
      "=============================\n",
      "D2a1 \t 1.0\n",
      "D3a1 \t 0.8\n",
      "IN_D1 \t 0.266667\n",
      "IN_D2 \t 1.0\n",
      "IN_D3 \t 1.0\n",
      "IN_S0 \t 0.533333\n",
      "IN_S1 \t 0.266667\n",
      "IN_S2 \t 1.0\n",
      "IN_Sg \t 0.533333\n",
      "OUT_D1 \t 0.266667\n",
      "OUT_D2 \t 1.0\n",
      "OUT_S0 \t 1.53333\n",
      "OUT_S1 \t 0.266667\n",
      "OUT_S2 \t 1.0\n",
      "S0a0 \t 0.533333\n",
      "S0a1 \t 1.0\n",
      "S1a0 \t 0.266667\n",
      "S2a1 \t 1.0\n",
      "p_max =  1.5333329999999998\n",
      "=============================\n",
      "[LINE 13]\n",
      "IN_D3\n",
      "\tFr ::  {'D3'}\n",
      "ITERATION :  5\n",
      "\tN ::  set()\n",
      "\tS ::  {'D2', 'D1', 'Sg', 'S0', 'D3', 'S1', 'S2'}\n",
      "\tF ::  set()\n",
      "\tG1 ::  {'Sg'}\n",
      "App :  defaultdict(<class 'list'>, {'D2': ['a1'], 'S0': ['a0', 'a1'], 'D3': ['a1'], 'S1': ['a0'], 'S2': ['a1']})\n",
      "===========================\n",
      "Stat : ['D2', 'D1', 'Sg', 'S0', 'D3', 'S1', 'S2']\n",
      "Acts : ['a1', 'a0', 'a1', 'a1', 'a0', 'a1']\n",
      "Init : S0\n",
      "Goal : ['Sg']\n",
      "===========================\n",
      "=============================\n",
      "D2a1 \t 0.0\n",
      "D3a1 \t 0.0\n",
      "IN_D1 \t 0.666667\n",
      "IN_D2 \t 0.0\n",
      "IN_D3 \t 0.0\n",
      "IN_S0 \t 0.333333\n",
      "IN_S1 \t 0.666667\n",
      "IN_S2 \t 0.0\n",
      "IN_Sg \t 0.333333\n",
      "OUT_D1 \t 0.666667\n",
      "OUT_D2 \t 0.0\n",
      "OUT_D3 \t 0.0\n",
      "OUT_S0 \t 1.33333\n",
      "OUT_S1 \t 0.666667\n",
      "OUT_S2 \t 0.0\n",
      "S0a0 \t 1.33333\n",
      "S0a1 \t 0.0\n",
      "S1a0 \t 0.666667\n",
      "S2a1 \t 0.0\n",
      "p_max =  0.333333\n",
      "=============================\n",
      "[LINE 13]\n",
      "\tFr ::  set()\n"
     ]
    }
   ],
   "source": [
    "problem = lp_hsearch(lp_maxprob,ssp)"
   ]
  },
  {
   "cell_type": "code",
   "execution_count": 20,
   "metadata": {},
   "outputs": [
    {
     "data": {
      "text/plain": [
       "0"
      ]
     },
     "execution_count": 20,
     "metadata": {},
     "output_type": "execute_result"
    }
   ],
   "source": [
    "from IPython.display import Image\n",
    "import os\n",
    "\n",
    "cmd = 'convert -delay 100 -loop 0 *.dot ssp.gif'\n",
    "os.system(cmd)"
   ]
  },
  {
   "cell_type": "markdown",
   "metadata": {},
   "source": [
    "![ssp](ssp.gif)"
   ]
  },
  {
   "cell_type": "code",
   "execution_count": 19,
   "metadata": {},
   "outputs": [
    {
     "name": "stdout",
     "output_type": "stream",
     "text": [
      "========================================\n",
      "==== LP - Heuristic Search =============\n",
      "========================================\n",
      "ITERATION :  1\n",
      "\tN ::  {'D1', 'S1', 'S2'}\n",
      "\tS ::  {'D1', 'S0', 'S1', 'S2'}\n",
      "\tF ::  {'D1', 'S1', 'S2'}\n",
      "\tG1 ::  {'D1', 'S1', 'S2'}\n",
      "App :  defaultdict(<class 'list'>, {'S0': ['a0', 'a1']})\n",
      "===========================\n",
      "Stat : ['D1', 'S0', 'S1', 'S2']\n",
      "Acts : ['a0', 'a1']\n",
      "Init : S0\n",
      "Goal : ['D1', 'S1', 'S2']\n",
      "===========================\n",
      "=============================\n",
      "====LP - SSPUDE =============\n",
      "=============================\n",
      "DE_D1 = 0.0\n",
      "DE_S0 = 0.0\n",
      "DE_S1 = 0.0\n",
      "DE_S2 = 0.0\n",
      "IN_D1 = 0.5\n",
      "IN_S0 = 0.0\n",
      "IN_S1 = 0.5\n",
      "IN_S2 = 0.0\n",
      "OUT_S0 = 1.0\n",
      "S0a0 = 1.0\n",
      "S0a1 = 0.0\n",
      "S1a0 = 0.0\n",
      "S2a1 = 0.0\n",
      "Objective = 1.0\n",
      "[LINE 13]\n",
      "IN_D1\n",
      "IN_S1\n",
      "IN_S2\n",
      "\tFr ::  {'D1', 'S1'}\n",
      "ITERATION :  2\n",
      "\tN ::  {'Sg'}\n",
      "\tS ::  {'D1', 'Sg', 'S0', 'S1', 'S2'}\n",
      "\tF ::  {'S2'}\n",
      "\tG1 ::  {'Sg', 'S2'}\n",
      "App :  defaultdict(<class 'list'>, {'S1': ['a0'], 'S0': ['a0', 'a1']})\n",
      "===========================\n",
      "Stat : ['D1', 'Sg', 'S0', 'S1', 'S2']\n",
      "Acts : ['a0', 'a0', 'a1']\n",
      "Init : S0\n",
      "Goal : ['Sg', 'S2']\n",
      "===========================\n",
      "=============================\n",
      "====LP - SSPUDE =============\n",
      "=============================\n",
      "DE_D1 = 0.0\n",
      "DE_S0 = 0.0\n",
      "DE_S1 = 0.0\n",
      "DE_S2 = 0.0\n",
      "DE_Sg = 0.0\n",
      "IN_D1 = 0.0\n",
      "IN_S0 = 0.0\n",
      "IN_S1 = 0.0\n",
      "IN_S2 = 1.0\n",
      "IN_Sg = 0.0\n",
      "OUT_D1 = 0.0\n",
      "OUT_S0 = 1.0\n",
      "OUT_S1 = 0.0\n",
      "S0a0 = 0.0\n",
      "S0a1 = 1.0\n",
      "S1a0 = 0.0\n",
      "S2a1 = 0.0\n",
      "Objective = 1.0\n",
      "[LINE 13]\n",
      "IN_S2\n",
      "\tFr ::  {'S2'}\n",
      "ITERATION :  3\n",
      "\tN ::  {'D2'}\n",
      "\tS ::  {'D2', 'D1', 'Sg', 'S0', 'S1', 'S2'}\n",
      "\tF ::  {'D2'}\n",
      "\tG1 ::  {'D2', 'Sg'}\n",
      "App :  defaultdict(<class 'list'>, {'S0': ['a0', 'a1'], 'S2': ['a1'], 'S1': ['a0']})\n",
      "===========================\n",
      "Stat : ['D2', 'D1', 'Sg', 'S0', 'S1', 'S2']\n",
      "Acts : ['a0', 'a1', 'a1', 'a0']\n",
      "Init : S0\n",
      "Goal : ['D2', 'Sg']\n",
      "===========================\n",
      "=============================\n",
      "====LP - SSPUDE =============\n",
      "=============================\n",
      "DE_D1 = 0.0\n",
      "DE_D2 = 0.0\n",
      "DE_S0 = 0.0\n",
      "DE_S1 = 0.0\n",
      "DE_S2 = 0.0\n",
      "DE_Sg = 0.0\n",
      "IN_D1 = 0.0\n",
      "IN_D2 = 0.333333\n",
      "IN_S0 = 0.666667\n",
      "IN_S1 = 0.0\n",
      "IN_S2 = 1.66667\n",
      "IN_Sg = 0.666667\n",
      "OUT_D1 = 0.0\n",
      "OUT_S0 = 1.66667\n",
      "OUT_S1 = 0.0\n",
      "OUT_S2 = 1.66667\n",
      "S0a0 = 0.0\n",
      "S0a1 = 1.66667\n",
      "S1a0 = 0.0\n",
      "S2a1 = 1.66667\n",
      "Objective = 5.0000100000000005\n",
      "[LINE 13]\n",
      "IN_D2\n",
      "\tFr ::  {'D2'}\n",
      "ITERATION :  4\n",
      "\tN ::  {'D3'}\n",
      "\tS ::  {'D2', 'D1', 'Sg', 'S0', 'D3', 'S1', 'S2'}\n",
      "\tF ::  {'D3'}\n",
      "\tG1 ::  {'D3', 'Sg'}\n",
      "App :  defaultdict(<class 'list'>, {'D2': ['a1'], 'S0': ['a0', 'a1'], 'S2': ['a1'], 'S1': ['a0']})\n",
      "===========================\n",
      "Stat : ['D2', 'D1', 'Sg', 'S0', 'D3', 'S1', 'S2']\n",
      "Acts : ['a1', 'a0', 'a1', 'a1', 'a0']\n",
      "Init : S0\n",
      "Goal : ['D3', 'Sg']\n",
      "===========================\n",
      "=============================\n",
      "====LP - SSPUDE =============\n",
      "=============================\n",
      "D2a1 = 0.333333\n",
      "D3a1 = 0.0\n",
      "DE_D1 = 0.0\n",
      "DE_D2 = 0.0\n",
      "DE_D3 = 0.0\n",
      "DE_S0 = 0.0\n",
      "DE_S1 = 0.0\n",
      "DE_S2 = 0.0\n",
      "DE_Sg = 0.0\n",
      "IN_D1 = 0.0\n",
      "IN_D2 = 0.333333\n",
      "IN_D3 = 0.333333\n",
      "IN_S0 = 0.666667\n",
      "IN_S1 = 0.0\n",
      "IN_S2 = 1.66667\n",
      "IN_Sg = 0.666667\n",
      "OUT_D1 = 0.0\n",
      "OUT_D2 = 0.333333\n",
      "OUT_S0 = 1.66667\n",
      "OUT_S1 = 0.0\n",
      "OUT_S2 = 1.66667\n",
      "S0a0 = 0.0\n",
      "S0a1 = 1.66667\n",
      "S1a0 = 0.0\n",
      "S2a1 = 1.66667\n",
      "Objective = 5.0000100000000005\n",
      "[LINE 13]\n",
      "IN_D3\n",
      "\tFr ::  {'D3'}\n",
      "ITERATION :  5\n",
      "\tN ::  set()\n",
      "\tS ::  {'D2', 'D1', 'Sg', 'S0', 'D3', 'S1', 'S2'}\n",
      "\tF ::  set()\n",
      "\tG1 ::  {'Sg'}\n",
      "App :  defaultdict(<class 'list'>, {'D2': ['a1'], 'S0': ['a0', 'a1'], 'D3': ['a1'], 'S1': ['a0'], 'S2': ['a1']})\n",
      "===========================\n",
      "Stat : ['D2', 'D1', 'Sg', 'S0', 'D3', 'S1', 'S2']\n",
      "Acts : ['a1', 'a0', 'a1', 'a1', 'a0', 'a1']\n",
      "Init : S0\n",
      "Goal : ['Sg']\n",
      "===========================\n",
      "=============================\n",
      "====LP - SSPUDE =============\n",
      "=============================\n",
      "D2a1 = 0.0\n",
      "D3a1 = 0.0\n",
      "DE_D1 = 0.0\n",
      "DE_D2 = 0.333333\n",
      "DE_D3 = 0.0\n",
      "DE_S0 = 0.0\n",
      "DE_S1 = 0.0\n",
      "DE_S2 = 0.0\n",
      "DE_Sg = 0.0\n",
      "IN_D1 = 0.0\n",
      "IN_D2 = 0.333333\n",
      "IN_D3 = 0.0\n",
      "IN_S0 = 0.666667\n",
      "IN_S1 = 0.0\n",
      "IN_S2 = 1.66667\n",
      "IN_Sg = 0.666667\n",
      "OUT_D1 = 0.0\n",
      "OUT_D2 = 0.333333\n",
      "OUT_D3 = 0.0\n",
      "OUT_S0 = 1.66667\n",
      "OUT_S1 = 0.0\n",
      "OUT_S2 = 1.66667\n",
      "S0a0 = 0.0\n",
      "S0a1 = 1.66667\n",
      "S1a0 = 0.0\n",
      "S2a1 = 1.66667\n",
      "Objective = 338.33300999999994\n",
      "[LINE 13]\n",
      "\tFr ::  set()\n"
     ]
    }
   ],
   "source": [
    "problem = lp_hsearch(lp_sspude,ssp)"
   ]
  },
  {
   "cell_type": "markdown",
   "metadata": {},
   "source": [
    "![ssp](ssp.gif)"
   ]
  },
  {
   "cell_type": "markdown",
   "metadata": {},
   "source": [
    "## Occupation Measure Heuristic for SSPs"
   ]
  },
  {
   "cell_type": "markdown",
   "metadata": {},
   "source": [
    "Occupation measure heuristic for an $SSP$ $\\mathbb{S}$ formalise constraints$^*$ over variables $x_{s,a}\\geq 0$.\n",
    "The heuristics then optimises the objective of (LP1) under those constraints."
   ]
  },
  {
   "cell_type": "markdown",
   "metadata": {},
   "source": [
    "## Projection Occupation Measure heuristic - $h^{pom}$ - Preliminaries:"
   ]
  },
  {
   "cell_type": "markdown",
   "metadata": {},
   "source": [
    "The objective is relax the dual LP formulation. The key idea is project the SSP and the dual LP constraints onto individual state variables, and ensure consistency across projections."
   ]
  },
  {
   "cell_type": "markdown",
   "metadata": {},
   "source": [
    "The projection of a probabilistic $SAS^{+}$ task $\\langle V,A,s_0,s_{\\star}, C \\rangle$ over the state variable $v\\in V$ is the probabilistic $SAS^{+}$ task in which all states and a partial valuation are restricted to the variable $v$. "
   ]
  },
  {
   "cell_type": "markdown",
   "metadata": {},
   "source": [
    "This projection is interpreted as the $SSP$ $\\mathbb{S}^v$"
   ]
  },
  {
   "cell_type": "markdown",
   "metadata": {},
   "source": [
    "## Projection of an SSP"
   ]
  },
  {
   "cell_type": "markdown",
   "metadata": {},
   "source": [
    "Given a probabilistic task $\\langle V, A, s_0, s_{\\star}, C \\rangle$ and $v\\in V$, its projection from $s$ onto $v$ is the SSP $\\mathbb{S}^{v,s}$"
   ]
  },
  {
   "cell_type": "markdown",
   "metadata": {},
   "source": [
    "$$\n",
    "\\mathbb{S}^{v,s} = \\langle D_v\\cup\\{ g \\}, s[v], \\{g\\}, A\\cup\\{a_g\\}, P, C' \\rangle\n",
    "$$"
   ]
  },
  {
   "cell_type": "markdown",
   "metadata": {},
   "source": [
    "where:\n",
    "* $C'(a_g) = 0$ ,\n",
    "* $C'(a) = C(a)$ for all $a\\in A$ , and"
   ]
  },
  {
   "cell_type": "markdown",
   "metadata": {},
   "source": [
    "$$\n",
    "P(d'|d,a) =\n",
    "  \\begin{cases}\n",
    "    \\sum_{e\\in eff(a) \\;s.t.\\; e[v]=d'} Pr_a(e)      & \\quad \\text{if } d\\neq d' ,\\; a\\in A, \\; pre(a)[v]\\in \\{d,\\bot\\}\\\\\n",
    "    \\sum_{e\\in eff(a) \\;s.t.\\; e[v]\\in\\{ d,\\bot\\}} Pr_a(e)      & \\quad \\text{if } d = d' ,\\; a\\in A, \\; pre(a)[v]\\in \\{d,\\bot\\}\\\\\n",
    "    1      & \\quad \\text{if } d =  g ,\\; a=a_g, \\; s_{\\star}[v]\\in \\{d,\\bot\\}\\\\\n",
    "    0     & \\quad \\text{otherwise}\n",
    "  \\end{cases}\n",
    "$$"
   ]
  },
  {
   "cell_type": "markdown",
   "metadata": {},
   "source": [
    "for all $d\\in D_v, \\; d'\\in D_v \\cup \\{g\\}$ and $a\\in A\\cup\\{a_g\\}$. If the state s is omitted, then $s=s_0$"
   ]
  },
  {
   "cell_type": "markdown",
   "metadata": {},
   "source": [
    "Given $v\\in V$, let $C^{v,s}$ represent the flow constraints (C1) - (C6) of the dual formulation of $\\mathbb{S}^{v,s}$.\n",
    "Each occupation measure of $\\mathbb{S}^{v,s}$ is $x^{v,s}_{d,a}$ for $d\\in D_v$ and $a\\in A\\cup\\{a_g\\}$, and represents the expected number of times $a$ is executed in the state $d$ of $\\mathbb{S}^{v,s}$."
   ]
  },
  {
   "cell_type": "markdown",
   "metadata": {},
   "source": [
    "## Tying Constraints "
   ]
  },
  {
   "cell_type": "markdown",
   "metadata": {},
   "source": [
    "To tie these occupation measures and constraints into a single $LP$, the following tying constraints were added. The set of tying constraints for state $s$ denoted as $Tying^s$, is"
   ]
  },
  {
   "cell_type": "markdown",
   "metadata": {},
   "source": [
    "$$\n",
    "\\sum_{d_i\\in D_{v_{i}}} x_{d_i,a}^{v_i,s} = \\sum_{d_j\\in D_{v_{j}}} x_{d_j,a}^{v_j,s} \\;\\;\\; \\forall v_i\\in V, \\; a\\in A\n",
    "$$"
   ]
  },
  {
   "cell_type": "markdown",
   "metadata": {},
   "source": [
    "The combination of tying and pojection constraints results ini the following heuristic:"
   ]
  },
  {
   "cell_type": "markdown",
   "metadata": {},
   "source": [
    "## Projection Occupation Measure heuristic - $h^{pom}$ - Definition:"
   ]
  },
  {
   "cell_type": "markdown",
   "metadata": {},
   "source": [
    "Given a probabilistic $SAS^+$ task $\\langle V, A, s_0, s_{\\star}, C \\rangle$ the projection occupationo measure heuristic $h^{pom}$ at state $s$ is the solution of the following LP:\n"
   ]
  },
  {
   "cell_type": "markdown",
   "metadata": {},
   "source": [
    "$$\n",
    "h^{pom}(s) = min \\sum_{d\\in D_v,a\\in A} x_{d,a}^{v,s} C(a) \\mid Tying^s, \\; C^{v',s} \\; \\forall v'\\in V, \n",
    "$$"
   ]
  },
  {
   "cell_type": "markdown",
   "metadata": {},
   "source": [
    "for any variable $v\\in V$."
   ]
  },
  {
   "cell_type": "markdown",
   "metadata": {},
   "source": [
    "-------------------------------------------------------------------------------------------------------------------"
   ]
  },
  {
   "cell_type": "markdown",
   "metadata": {},
   "source": [
    "# Experiments with SSPs"
   ]
  },
  {
   "cell_type": "markdown",
   "metadata": {},
   "source": [
    "## Blocksworld"
   ]
  },
  {
   "cell_type": "markdown",
   "metadata": {},
   "source": [
    "<img src='plot.png'>"
   ]
  },
  {
   "cell_type": "markdown",
   "metadata": {},
   "source": [
    "## Tire-triangle"
   ]
  },
  {
   "cell_type": "markdown",
   "metadata": {},
   "source": [
    "<img src='plot2.jpg'>"
   ]
  },
  {
   "cell_type": "markdown",
   "metadata": {},
   "source": [
    "--------------------------------------------------------------------------------------------------------------"
   ]
  },
  {
   "cell_type": "markdown",
   "metadata": {},
   "source": [
    "## Experiments for SSP with Dead Ends"
   ]
  },
  {
   "cell_type": "markdown",
   "metadata": {},
   "source": [
    "## Exploding BlocksWorld"
   ]
  },
  {
   "cell_type": "markdown",
   "metadata": {},
   "source": [
    "This domain is an adaptation of the exploding blocksworld domain of the 2008 International Probabilistic Planning Competition (IPPC) (Bryce and Buf- fet 2008). The exploding blocks world is a probabilistic ex- tension of the deterministic blocks world in which blocks can explode and destroy other blocks or the table. Once a block or the table is destroyed, nothing can be placed on them, and destroyed blocks cannot be moved. Therefore, the original IPPC domain has unavoidable dead-ends."
   ]
  },
  {
   "cell_type": "markdown",
   "metadata": {},
   "source": [
    "<img src='exp.png'>"
   ]
  },
  {
   "cell_type": "markdown",
   "metadata": {},
   "source": [
    "## Triangle Tire-World"
   ]
  },
  {
   "cell_type": "markdown",
   "metadata": {},
   "source": [
    "This domain represents a car that has to travel between locations in order to reach a goal location from its initial location. When the car moves between locations, a flat tire happens with probability 0.5 and the car becomes unable to move if both the car and the location do not have a spare tire. Problems in this domain are generated to have avoidable dead ends."
   ]
  },
  {
   "cell_type": "markdown",
   "metadata": {},
   "source": [
    "<img src='tire-world.png'>"
   ]
  },
  {
   "cell_type": "markdown",
   "metadata": {},
   "source": [
    "## Drive"
   ]
  },
  {
   "cell_type": "markdown",
   "metadata": {},
   "source": [
    "In the Drive domain, proposed for the IPPC-2006, we also have a vehicle that moves in a network of roads and traffic lights. When moving through the tracks, the agent can die, which is a dead end. The probability of the agent dying depends on the direction in which the vehicle is driving, the length of the segments, the color in which the traffic lights meet and the preference between the lanes. If the light is red, the agent can wait for the color to change or to advance. All the moves have some probability of reaching an alley-out, so the instances of that domain are sspude mdp"
   ]
  },
  {
   "cell_type": "markdown",
   "metadata": {},
   "source": [
    "<img src='drive.png'>"
   ]
  },
  {
   "cell_type": "markdown",
   "metadata": {},
   "source": [
    "----------------------------------------------------------------------------------------------------------------"
   ]
  },
  {
   "cell_type": "markdown",
   "metadata": {},
   "source": [
    "# Overview for SSPs "
   ]
  },
  {
   "cell_type": "markdown",
   "metadata": {
    "collapsed": true
   },
   "source": [
    "<img src='planning.png'>"
   ]
  }
 ],
 "metadata": {
  "kernelspec": {
   "display_name": "Python 3",
   "language": "python",
   "name": "python3"
  },
  "language_info": {
   "codemirror_mode": {
    "name": "ipython",
    "version": 3
   },
   "file_extension": ".py",
   "mimetype": "text/x-python",
   "name": "python",
   "nbconvert_exporter": "python",
   "pygments_lexer": "ipython3",
   "version": "3.6.3"
  }
 },
 "nbformat": 4,
 "nbformat_minor": 2
}
